{
 "cells": [
  {
   "cell_type": "markdown",
   "id": "450be2b3-75b1-4009-9f95-0cbf2c5b4e92",
   "metadata": {},
   "source": [
    "# Python test"
   ]
  },
  {
   "cell_type": "code",
   "execution_count": 117,
   "id": "c0fd7ab0-c60b-4324-aa02-67e95f919038",
   "metadata": {},
   "outputs": [],
   "source": [
    "import pandas as pd"
   ]
  },
  {
   "cell_type": "code",
   "execution_count": 126,
   "id": "b930d403-c449-4dca-9623-5fcf51b988d6",
   "metadata": {},
   "outputs": [
    {
     "data": {
      "text/html": [
       "<div>\n",
       "<style scoped>\n",
       "    .dataframe tbody tr th:only-of-type {\n",
       "        vertical-align: middle;\n",
       "    }\n",
       "\n",
       "    .dataframe tbody tr th {\n",
       "        vertical-align: top;\n",
       "    }\n",
       "\n",
       "    .dataframe thead th {\n",
       "        text-align: right;\n",
       "    }\n",
       "</style>\n",
       "<table border=\"1\" class=\"dataframe\">\n",
       "  <thead>\n",
       "    <tr style=\"text-align: right;\">\n",
       "      <th></th>\n",
       "      <th>ID</th>\n",
       "      <th>金額</th>\n",
       "    </tr>\n",
       "  </thead>\n",
       "  <tbody>\n",
       "    <tr>\n",
       "      <th>0</th>\n",
       "      <td>1</td>\n",
       "      <td>36000</td>\n",
       "    </tr>\n",
       "    <tr>\n",
       "      <th>1</th>\n",
       "      <td>2</td>\n",
       "      <td>18000</td>\n",
       "    </tr>\n",
       "  </tbody>\n",
       "</table>\n",
       "</div>"
      ],
      "text/plain": [
       "   ID     金額\n",
       "0   1  36000\n",
       "1   2  18000"
      ]
     },
     "execution_count": 126,
     "metadata": {},
     "output_type": "execute_result"
    }
   ],
   "source": [
    "party_data = {\n",
    "    \"ID\": [1,2],\n",
    "    \"金額\": [36000, 18000],\n",
    "}\n",
    "\n",
    "party_df = pd.DataFrame(party_data)\n",
    "party_df.head()"
   ]
  },
  {
   "cell_type": "code",
   "execution_count": 129,
   "id": "1999ffd7-7505-4a8d-b20b-98edf010fdae",
   "metadata": {},
   "outputs": [
    {
     "data": {
      "text/html": [
       "<div>\n",
       "<style scoped>\n",
       "    .dataframe tbody tr th:only-of-type {\n",
       "        vertical-align: middle;\n",
       "    }\n",
       "\n",
       "    .dataframe tbody tr th {\n",
       "        vertical-align: top;\n",
       "    }\n",
       "\n",
       "    .dataframe thead th {\n",
       "        text-align: right;\n",
       "    }\n",
       "</style>\n",
       "<table border=\"1\" class=\"dataframe\">\n",
       "  <thead>\n",
       "    <tr style=\"text-align: right;\">\n",
       "      <th></th>\n",
       "      <th>役職</th>\n",
       "      <th>傾斜</th>\n",
       "    </tr>\n",
       "  </thead>\n",
       "  <tbody>\n",
       "    <tr>\n",
       "      <th>0</th>\n",
       "      <td>部長</td>\n",
       "      <td>50</td>\n",
       "    </tr>\n",
       "    <tr>\n",
       "      <th>1</th>\n",
       "      <td>GM</td>\n",
       "      <td>25</td>\n",
       "    </tr>\n",
       "    <tr>\n",
       "      <th>2</th>\n",
       "      <td>アソシエイト</td>\n",
       "      <td>10</td>\n",
       "    </tr>\n",
       "  </tbody>\n",
       "</table>\n",
       "</div>"
      ],
      "text/plain": [
       "       役職  傾斜\n",
       "0      部長  50\n",
       "1      GM  25\n",
       "2  アソシエイト  10"
      ]
     },
     "execution_count": 129,
     "metadata": {},
     "output_type": "execute_result"
    }
   ],
   "source": [
    "position_data = {\n",
    "    \"役職\": [\"部長\", \"GM\", \"アソシエイト\"],\n",
    "    \"傾斜\": [50, 25, 10]\n",
    "}\n",
    "\n",
    "position_df = pd.DataFrame(position_data)    \n",
    "position_df.head()"
   ]
  },
  {
   "cell_type": "code",
   "execution_count": 130,
   "id": "d67ccce0-4abe-40e2-89bd-c56d538e2722",
   "metadata": {},
   "outputs": [
    {
     "name": "stdout",
     "output_type": "stream",
     "text": [
      "85\n"
     ]
    },
    {
     "data": {
      "text/html": [
       "<div>\n",
       "<style scoped>\n",
       "    .dataframe tbody tr th:only-of-type {\n",
       "        vertical-align: middle;\n",
       "    }\n",
       "\n",
       "    .dataframe tbody tr th {\n",
       "        vertical-align: top;\n",
       "    }\n",
       "\n",
       "    .dataframe thead th {\n",
       "        text-align: right;\n",
       "    }\n",
       "</style>\n",
       "<table border=\"1\" class=\"dataframe\">\n",
       "  <thead>\n",
       "    <tr style=\"text-align: right;\">\n",
       "      <th></th>\n",
       "      <th>名前</th>\n",
       "      <th>役職</th>\n",
       "      <th>傾斜</th>\n",
       "      <th>1次会出欠</th>\n",
       "      <th>2次会出欠</th>\n",
       "      <th>1次会支払い比率</th>\n",
       "      <th>2次会支払い比率</th>\n",
       "      <th>1次会</th>\n",
       "      <th>2次会</th>\n",
       "      <th>合計</th>\n",
       "    </tr>\n",
       "  </thead>\n",
       "  <tbody>\n",
       "    <tr>\n",
       "      <th>0</th>\n",
       "      <td>上野</td>\n",
       "      <td>部長</td>\n",
       "      <td>50</td>\n",
       "      <td>1</td>\n",
       "      <td>1</td>\n",
       "      <td>0.454545</td>\n",
       "      <td>0.588235</td>\n",
       "      <td>16363.636364</td>\n",
       "      <td>10588.235294</td>\n",
       "      <td>26951.871658</td>\n",
       "    </tr>\n",
       "    <tr>\n",
       "      <th>1</th>\n",
       "      <td>松田</td>\n",
       "      <td>GM</td>\n",
       "      <td>25</td>\n",
       "      <td>1</td>\n",
       "      <td>0</td>\n",
       "      <td>0.227273</td>\n",
       "      <td>0.000000</td>\n",
       "      <td>8181.818182</td>\n",
       "      <td>0.000000</td>\n",
       "      <td>8181.818182</td>\n",
       "    </tr>\n",
       "    <tr>\n",
       "      <th>2</th>\n",
       "      <td>増永</td>\n",
       "      <td>GM</td>\n",
       "      <td>25</td>\n",
       "      <td>1</td>\n",
       "      <td>1</td>\n",
       "      <td>0.227273</td>\n",
       "      <td>0.294118</td>\n",
       "      <td>8181.818182</td>\n",
       "      <td>5294.117647</td>\n",
       "      <td>13475.935829</td>\n",
       "    </tr>\n",
       "    <tr>\n",
       "      <th>3</th>\n",
       "      <td>吉田</td>\n",
       "      <td>アソシエイト</td>\n",
       "      <td>10</td>\n",
       "      <td>1</td>\n",
       "      <td>1</td>\n",
       "      <td>0.090909</td>\n",
       "      <td>0.117647</td>\n",
       "      <td>3272.727273</td>\n",
       "      <td>2117.647059</td>\n",
       "      <td>5390.374332</td>\n",
       "    </tr>\n",
       "  </tbody>\n",
       "</table>\n",
       "</div>"
      ],
      "text/plain": [
       "   名前      役職  傾斜  1次会出欠  2次会出欠  1次会支払い比率  2次会支払い比率           1次会  \\\n",
       "0  上野      部長  50      1      1  0.454545  0.588235  16363.636364   \n",
       "1  松田      GM  25      1      0  0.227273  0.000000   8181.818182   \n",
       "2  増永      GM  25      1      1  0.227273  0.294118   8181.818182   \n",
       "3  吉田  アソシエイト  10      1      1  0.090909  0.117647   3272.727273   \n",
       "\n",
       "            2次会            合計  \n",
       "0  10588.235294  26951.871658  \n",
       "1      0.000000   8181.818182  \n",
       "2   5294.117647  13475.935829  \n",
       "3   2117.647059   5390.374332  "
      ]
     },
     "execution_count": 130,
     "metadata": {},
     "output_type": "execute_result"
    }
   ],
   "source": [
    "participant_data = {\n",
    "    \"名前\": [\"上野\", \"松田\", \"増永\", \"吉田\"],\n",
    "    \"役職\": [\"部長\", \"GM\", \"GM\", \"アソシエイト\"]\n",
    "}\n",
    "\n",
    "participant_df = pd.DataFrame(participant_data)    \n",
    "participant_df = pd.merge(participant_df, position_df, on=\"役職\", how=\"left\")\n",
    "\n",
    "for party in party_df.itertuples():\n",
    "    participant_df[f\"{party.Index+1}次会出欠\"] = 1\n",
    "\n",
    "participant_df.at[1, \"2次会出欠\"] = 0\n",
    "\n",
    "# 支払い比率の計算\n",
    "for party in party_df.itertuples():\n",
    "    total = (participant_df[\"傾斜\"] * participant_df[f\"{party.Index+1}次会出欠\"]).sum()\n",
    "    participant_df[f\"{party.Index+1}次会支払い比率\"] = participant_df[\"傾斜\"] * participant_df[f\"{party.Index+1}次会出欠\"] / total\n",
    "\n",
    "print(total)    \n",
    "\n",
    "# 各飲み会の支払いの計算\n",
    "for party in party_df.itertuples():\n",
    "    total_payment = party.金額\n",
    "    participant_df[f\"{party.Index+1}次会\"] = participant_df[f\"{party.Index+1}次会支払い比率\"] * total_payment\n",
    "\n",
    "# 合計金額の計算\n",
    "participant_df[\"合計\"] = 0\n",
    "for party in party_df.itertuples():\n",
    "    participant_df[\"合計\"] += participant_df[f\"{party.Index+1}次会\"] \n",
    "\n",
    "participant_df"
   ]
  },
  {
   "cell_type": "code",
   "execution_count": null,
   "id": "2930e890-3404-4792-8ccf-e98753b9d77d",
   "metadata": {},
   "outputs": [],
   "source": []
  },
  {
   "cell_type": "code",
   "execution_count": 99,
   "id": "7959106d-4053-4af8-adb2-f3d926b05f67",
   "metadata": {},
   "outputs": [
    {
     "data": {
      "text/html": [
       "<div>\n",
       "<style scoped>\n",
       "    .dataframe tbody tr th:only-of-type {\n",
       "        vertical-align: middle;\n",
       "    }\n",
       "\n",
       "    .dataframe tbody tr th {\n",
       "        vertical-align: top;\n",
       "    }\n",
       "\n",
       "    .dataframe thead th {\n",
       "        text-align: right;\n",
       "    }\n",
       "</style>\n",
       "<table border=\"1\" class=\"dataframe\">\n",
       "  <thead>\n",
       "    <tr style=\"text-align: right;\">\n",
       "      <th></th>\n",
       "      <th>ID_x</th>\n",
       "      <th>名前</th>\n",
       "      <th>役職</th>\n",
       "      <th>1次会出欠</th>\n",
       "      <th>2次会出欠</th>\n",
       "      <th>ID_y</th>\n",
       "      <th>傾斜_x</th>\n",
       "      <th>ID</th>\n",
       "      <th>傾斜_y</th>\n",
       "    </tr>\n",
       "  </thead>\n",
       "  <tbody>\n",
       "    <tr>\n",
       "      <th>0</th>\n",
       "      <td>1</td>\n",
       "      <td>上野</td>\n",
       "      <td>部長</td>\n",
       "      <td>1</td>\n",
       "      <td>1</td>\n",
       "      <td>1</td>\n",
       "      <td>100</td>\n",
       "      <td>1</td>\n",
       "      <td>100</td>\n",
       "    </tr>\n",
       "    <tr>\n",
       "      <th>1</th>\n",
       "      <td>2</td>\n",
       "      <td>松田</td>\n",
       "      <td>GM</td>\n",
       "      <td>1</td>\n",
       "      <td>1</td>\n",
       "      <td>2</td>\n",
       "      <td>25</td>\n",
       "      <td>2</td>\n",
       "      <td>25</td>\n",
       "    </tr>\n",
       "    <tr>\n",
       "      <th>2</th>\n",
       "      <td>3</td>\n",
       "      <td>増永</td>\n",
       "      <td>GM</td>\n",
       "      <td>1</td>\n",
       "      <td>1</td>\n",
       "      <td>2</td>\n",
       "      <td>25</td>\n",
       "      <td>2</td>\n",
       "      <td>25</td>\n",
       "    </tr>\n",
       "  </tbody>\n",
       "</table>\n",
       "</div>"
      ],
      "text/plain": [
       "   ID_x  名前  役職  1次会出欠  2次会出欠  ID_y  傾斜_x  ID  傾斜_y\n",
       "0     1  上野  部長      1      1     1   100   1   100\n",
       "1     2  松田  GM      1      1     2    25   2    25\n",
       "2     3  増永  GM      1      1     2    25   2    25"
      ]
     },
     "execution_count": 99,
     "metadata": {},
     "output_type": "execute_result"
    }
   ],
   "source": []
  },
  {
   "cell_type": "code",
   "execution_count": null,
   "id": "f6786b51-8083-45e7-a95e-82dbf84acf5a",
   "metadata": {},
   "outputs": [],
   "source": []
  },
  {
   "cell_type": "code",
   "execution_count": null,
   "id": "a099cd86-25a9-4510-8bd6-6aa12f633db9",
   "metadata": {},
   "outputs": [],
   "source": []
  },
  {
   "cell_type": "code",
   "execution_count": 65,
   "id": "ae7bac17-e642-4edc-aa3e-6743215a618d",
   "metadata": {},
   "outputs": [
    {
     "data": {
      "text/html": [
       "<div>\n",
       "<style scoped>\n",
       "    .dataframe tbody tr th:only-of-type {\n",
       "        vertical-align: middle;\n",
       "    }\n",
       "\n",
       "    .dataframe tbody tr th {\n",
       "        vertical-align: top;\n",
       "    }\n",
       "\n",
       "    .dataframe thead th {\n",
       "        text-align: right;\n",
       "    }\n",
       "</style>\n",
       "<table border=\"1\" class=\"dataframe\">\n",
       "  <thead>\n",
       "    <tr style=\"text-align: right;\">\n",
       "      <th></th>\n",
       "      <th>ID</th>\n",
       "      <th>役職</th>\n",
       "      <th>傾斜</th>\n",
       "      <th>人数</th>\n",
       "    </tr>\n",
       "  </thead>\n",
       "  <tbody>\n",
       "    <tr>\n",
       "      <th>0</th>\n",
       "      <td>1</td>\n",
       "      <td>部長</td>\n",
       "      <td>100</td>\n",
       "      <td>1</td>\n",
       "    </tr>\n",
       "    <tr>\n",
       "      <th>1</th>\n",
       "      <td>2</td>\n",
       "      <td>GM</td>\n",
       "      <td>25</td>\n",
       "      <td>2</td>\n",
       "    </tr>\n",
       "  </tbody>\n",
       "</table>\n",
       "</div>"
      ],
      "text/plain": [
       "   ID  役職   傾斜  人数\n",
       "0   1  部長  100   1\n",
       "1   2  GM   25   2"
      ]
     },
     "execution_count": 65,
     "metadata": {},
     "output_type": "execute_result"
    }
   ],
   "source": [
    "# 役職ごとの人数を集計\n",
    "position_count = participant_df['役職'].value_counts().reset_index()\n",
    "position_count.columns = ['役職', '人数']  # 列名を「役職」と「人数」に設定\n",
    "\n",
    "# position_df に人数情報をマージ（結合）\n",
    "payment_df = position_df.merge(position_count, on='役職', how='left')\n",
    "payment_df\n"
   ]
  },
  {
   "cell_type": "code",
   "execution_count": 68,
   "id": "8812ed16-9ad1-435c-8e04-c1755e2c6193",
   "metadata": {},
   "outputs": [
    {
     "data": {
      "text/plain": [
       "150"
      ]
     },
     "execution_count": 68,
     "metadata": {},
     "output_type": "execute_result"
    }
   ],
   "source": [
    "total_inclination = (payment_df[\"傾斜\"] * payment_df[\"人数\"]).sum()\n",
    "total_inclination"
   ]
  },
  {
   "cell_type": "code",
   "execution_count": 69,
   "id": "f382a553-e32d-4949-975f-2f7b64cf7586",
   "metadata": {},
   "outputs": [
    {
     "data": {
      "text/html": [
       "<div>\n",
       "<style scoped>\n",
       "    .dataframe tbody tr th:only-of-type {\n",
       "        vertical-align: middle;\n",
       "    }\n",
       "\n",
       "    .dataframe tbody tr th {\n",
       "        vertical-align: top;\n",
       "    }\n",
       "\n",
       "    .dataframe thead th {\n",
       "        text-align: right;\n",
       "    }\n",
       "</style>\n",
       "<table border=\"1\" class=\"dataframe\">\n",
       "  <thead>\n",
       "    <tr style=\"text-align: right;\">\n",
       "      <th></th>\n",
       "      <th>ID</th>\n",
       "      <th>役職</th>\n",
       "      <th>傾斜</th>\n",
       "      <th>人数</th>\n",
       "      <th>支払い比率</th>\n",
       "    </tr>\n",
       "  </thead>\n",
       "  <tbody>\n",
       "    <tr>\n",
       "      <th>0</th>\n",
       "      <td>1</td>\n",
       "      <td>部長</td>\n",
       "      <td>100</td>\n",
       "      <td>1</td>\n",
       "      <td>0.666667</td>\n",
       "    </tr>\n",
       "    <tr>\n",
       "      <th>1</th>\n",
       "      <td>2</td>\n",
       "      <td>GM</td>\n",
       "      <td>25</td>\n",
       "      <td>2</td>\n",
       "      <td>0.166667</td>\n",
       "    </tr>\n",
       "  </tbody>\n",
       "</table>\n",
       "</div>"
      ],
      "text/plain": [
       "   ID  役職   傾斜  人数     支払い比率\n",
       "0   1  部長  100   1  0.666667\n",
       "1   2  GM   25   2  0.166667"
      ]
     },
     "execution_count": 69,
     "metadata": {},
     "output_type": "execute_result"
    }
   ],
   "source": [
    "payment_df[\"支払い比率\"] = payment_df[\"傾斜\"] / total_inclination\n",
    "payment_df"
   ]
  },
  {
   "cell_type": "code",
   "execution_count": 77,
   "id": "89c43f66-cb6d-4a62-adca-3836da408f8f",
   "metadata": {},
   "outputs": [
    {
     "data": {
      "text/plain": [
       "{'部長': 0.6666666666666666, 'GM': 0.16666666666666666}"
      ]
     },
     "execution_count": 77,
     "metadata": {},
     "output_type": "execute_result"
    }
   ],
   "source": [
    "# 各役職の支払い比率を取得するための辞書を作成\n",
    "payment_ratio = payment_df.set_index('役職')['支払い比率'].to_dict()\n",
    "payment_ratio"
   ]
  },
  {
   "cell_type": "code",
   "execution_count": 78,
   "id": "461c9a9d-b590-4311-84df-573a96ff7bfe",
   "metadata": {},
   "outputs": [
    {
     "data": {
      "text/html": [
       "<div>\n",
       "<style scoped>\n",
       "    .dataframe tbody tr th:only-of-type {\n",
       "        vertical-align: middle;\n",
       "    }\n",
       "\n",
       "    .dataframe tbody tr th {\n",
       "        vertical-align: top;\n",
       "    }\n",
       "\n",
       "    .dataframe thead th {\n",
       "        text-align: right;\n",
       "    }\n",
       "</style>\n",
       "<table border=\"1\" class=\"dataframe\">\n",
       "  <thead>\n",
       "    <tr style=\"text-align: right;\">\n",
       "      <th></th>\n",
       "      <th>ID</th>\n",
       "      <th>役職</th>\n",
       "      <th>傾斜</th>\n",
       "      <th>人数</th>\n",
       "      <th>支払い比率</th>\n",
       "      <th>1次会</th>\n",
       "      <th>2次会</th>\n",
       "    </tr>\n",
       "  </thead>\n",
       "  <tbody>\n",
       "    <tr>\n",
       "      <th>0</th>\n",
       "      <td>1</td>\n",
       "      <td>部長</td>\n",
       "      <td>100</td>\n",
       "      <td>1</td>\n",
       "      <td>0.666667</td>\n",
       "      <td>24000.0</td>\n",
       "      <td>12000.0</td>\n",
       "    </tr>\n",
       "    <tr>\n",
       "      <th>1</th>\n",
       "      <td>2</td>\n",
       "      <td>GM</td>\n",
       "      <td>25</td>\n",
       "      <td>2</td>\n",
       "      <td>0.166667</td>\n",
       "      <td>6000.0</td>\n",
       "      <td>3000.0</td>\n",
       "    </tr>\n",
       "  </tbody>\n",
       "</table>\n",
       "</div>"
      ],
      "text/plain": [
       "   ID  役職   傾斜  人数     支払い比率      1次会      2次会\n",
       "0   1  部長  100   1  0.666667  24000.0  12000.0\n",
       "1   2  GM   25   2  0.166667   6000.0   3000.0"
      ]
     },
     "execution_count": 78,
     "metadata": {},
     "output_type": "execute_result"
    }
   ],
   "source": [
    "for party in party_df.itertuples():\n",
    "    payment_df[f\"{party.Index+1}次会\"] = participant_df['役職'].map(payment_ratio) * party.金額\n",
    "\n",
    "payment_df"
   ]
  },
  {
   "cell_type": "code",
   "execution_count": 80,
   "id": "0311884b-bddf-4e60-ad4c-0b57a5ee6e58",
   "metadata": {},
   "outputs": [
    {
     "data": {
      "text/html": [
       "<div>\n",
       "<style scoped>\n",
       "    .dataframe tbody tr th:only-of-type {\n",
       "        vertical-align: middle;\n",
       "    }\n",
       "\n",
       "    .dataframe tbody tr th {\n",
       "        vertical-align: top;\n",
       "    }\n",
       "\n",
       "    .dataframe thead th {\n",
       "        text-align: right;\n",
       "    }\n",
       "</style>\n",
       "<table border=\"1\" class=\"dataframe\">\n",
       "  <thead>\n",
       "    <tr style=\"text-align: right;\">\n",
       "      <th></th>\n",
       "      <th>役職</th>\n",
       "      <th>1次会</th>\n",
       "      <th>2次会</th>\n",
       "    </tr>\n",
       "  </thead>\n",
       "  <tbody>\n",
       "    <tr>\n",
       "      <th>0</th>\n",
       "      <td>部長</td>\n",
       "      <td>24000.0</td>\n",
       "      <td>12000.0</td>\n",
       "    </tr>\n",
       "    <tr>\n",
       "      <th>1</th>\n",
       "      <td>GM</td>\n",
       "      <td>6000.0</td>\n",
       "      <td>3000.0</td>\n",
       "    </tr>\n",
       "  </tbody>\n",
       "</table>\n",
       "</div>"
      ],
      "text/plain": [
       "   役職      1次会      2次会\n",
       "0  部長  24000.0  12000.0\n",
       "1  GM   6000.0   3000.0"
      ]
     },
     "execution_count": 80,
     "metadata": {},
     "output_type": "execute_result"
    }
   ],
   "source": [
    "temp_df = payment_df.drop([\"ID\", \"傾斜\", \"人数\", \"支払い比率\"], axis=1)\n",
    "temp_df"
   ]
  },
  {
   "cell_type": "code",
   "execution_count": 85,
   "id": "84d557bf-a968-4f3a-8503-0944c4caa40d",
   "metadata": {},
   "outputs": [
    {
     "data": {
      "text/plain": [
       "(3, 4)"
      ]
     },
     "execution_count": 85,
     "metadata": {},
     "output_type": "execute_result"
    }
   ],
   "source": [
    "participant_df"
   ]
  },
  {
   "cell_type": "code",
   "execution_count": 87,
   "id": "a49e4f42-0402-4876-b811-1eb198e81b3a",
   "metadata": {},
   "outputs": [
    {
     "data": {
      "text/html": [
       "<div>\n",
       "<style scoped>\n",
       "    .dataframe tbody tr th:only-of-type {\n",
       "        vertical-align: middle;\n",
       "    }\n",
       "\n",
       "    .dataframe tbody tr th {\n",
       "        vertical-align: top;\n",
       "    }\n",
       "\n",
       "    .dataframe thead th {\n",
       "        text-align: right;\n",
       "    }\n",
       "</style>\n",
       "<table border=\"1\" class=\"dataframe\">\n",
       "  <thead>\n",
       "    <tr style=\"text-align: right;\">\n",
       "      <th></th>\n",
       "      <th>名前</th>\n",
       "      <th>役職</th>\n",
       "      <th>1次会</th>\n",
       "      <th>2次会</th>\n",
       "      <th>合計金額</th>\n",
       "    </tr>\n",
       "  </thead>\n",
       "  <tbody>\n",
       "    <tr>\n",
       "      <th>0</th>\n",
       "      <td>上野</td>\n",
       "      <td>部長</td>\n",
       "      <td>24000.0</td>\n",
       "      <td>12000.0</td>\n",
       "      <td>36000.0</td>\n",
       "    </tr>\n",
       "    <tr>\n",
       "      <th>1</th>\n",
       "      <td>松田</td>\n",
       "      <td>GM</td>\n",
       "      <td>6000.0</td>\n",
       "      <td>3000.0</td>\n",
       "      <td>9000.0</td>\n",
       "    </tr>\n",
       "    <tr>\n",
       "      <th>2</th>\n",
       "      <td>増永</td>\n",
       "      <td>GM</td>\n",
       "      <td>6000.0</td>\n",
       "      <td>3000.0</td>\n",
       "      <td>9000.0</td>\n",
       "    </tr>\n",
       "  </tbody>\n",
       "</table>\n",
       "</div>"
      ],
      "text/plain": [
       "   名前  役職      1次会      2次会     合計金額\n",
       "0  上野  部長  24000.0  12000.0  36000.0\n",
       "1  松田  GM   6000.0   3000.0   9000.0\n",
       "2  増永  GM   6000.0   3000.0   9000.0"
      ]
     },
     "execution_count": 87,
     "metadata": {},
     "output_type": "execute_result"
    }
   ],
   "source": [
    "display_df = pd.merge(participant_df[[\"名前\", \"役職\"]], temp_df, on=\"役職\", how=\"left\")\n",
    "display_df[\"合計金額\"] = 0\n",
    "for i in range(party_df.shape[0]):\n",
    "    display_df[\"合計金額\"] = display_df[\"合計金額\"] + display_df[f\"{i+1}次会\"]\n",
    "display_df"
   ]
  },
  {
   "cell_type": "code",
   "execution_count": 91,
   "id": "ac5a691b-a3c9-4cf6-aba1-9e8e277ce1af",
   "metadata": {},
   "outputs": [
    {
     "data": {
      "text/html": [
       "<div>\n",
       "<style scoped>\n",
       "    .dataframe tbody tr th:only-of-type {\n",
       "        vertical-align: middle;\n",
       "    }\n",
       "\n",
       "    .dataframe tbody tr th {\n",
       "        vertical-align: top;\n",
       "    }\n",
       "\n",
       "    .dataframe thead th {\n",
       "        text-align: right;\n",
       "    }\n",
       "</style>\n",
       "<table border=\"1\" class=\"dataframe\">\n",
       "  <thead>\n",
       "    <tr style=\"text-align: right;\">\n",
       "      <th></th>\n",
       "      <th>ID</th>\n",
       "      <th>名前</th>\n",
       "      <th>役職</th>\n",
       "      <th>1次会</th>\n",
       "      <th>2次会</th>\n",
       "    </tr>\n",
       "  </thead>\n",
       "  <tbody>\n",
       "    <tr>\n",
       "      <th>0</th>\n",
       "      <td>1</td>\n",
       "      <td>上野</td>\n",
       "      <td>部長</td>\n",
       "      <td>1</td>\n",
       "      <td>1</td>\n",
       "    </tr>\n",
       "    <tr>\n",
       "      <th>1</th>\n",
       "      <td>2</td>\n",
       "      <td>松田</td>\n",
       "      <td>GM</td>\n",
       "      <td>1</td>\n",
       "      <td>1</td>\n",
       "    </tr>\n",
       "    <tr>\n",
       "      <th>2</th>\n",
       "      <td>3</td>\n",
       "      <td>増永</td>\n",
       "      <td>GM</td>\n",
       "      <td>1</td>\n",
       "      <td>1</td>\n",
       "    </tr>\n",
       "  </tbody>\n",
       "</table>\n",
       "</div>"
      ],
      "text/plain": [
       "   ID  名前  役職  1次会  2次会\n",
       "0   1  上野  部長    1    1\n",
       "1   2  松田  GM    1    1\n",
       "2   3  増永  GM    1    1"
      ]
     },
     "execution_count": 91,
     "metadata": {},
     "output_type": "execute_result"
    }
   ],
   "source": [
    "attendance_df = participant_df\n",
    "for i in range(party_df.shape[0]):\n",
    "    attendance_df[f\"{i+1}次会\"] = 1\n",
    "\n",
    "attendance_df"
   ]
  },
  {
   "cell_type": "code",
   "execution_count": null,
   "id": "4264ed2d-a16a-469e-8292-ca68afb2ea9f",
   "metadata": {},
   "outputs": [],
   "source": []
  }
 ],
 "metadata": {
  "kernelspec": {
   "display_name": "Python 3 (ipykernel)",
   "language": "python",
   "name": "python3"
  },
  "language_info": {
   "codemirror_mode": {
    "name": "ipython",
    "version": 3
   },
   "file_extension": ".py",
   "mimetype": "text/x-python",
   "name": "python",
   "nbconvert_exporter": "python",
   "pygments_lexer": "ipython3",
   "version": "3.9.16"
  }
 },
 "nbformat": 4,
 "nbformat_minor": 5
}
